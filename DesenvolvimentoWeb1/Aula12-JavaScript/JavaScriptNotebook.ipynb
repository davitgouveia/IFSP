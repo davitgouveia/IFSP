{
 "cells": [
  {
   "cell_type": "markdown",
   "id": "3e9508a4",
   "metadata": {},
   "source": [
    "# JavaScript\n",
    "\n",
    "## Array\n",
    "<p>O objeto Array é usado para armazenar vários valores em uma única variável.</p>"
   ]
  },
  {
   "cell_type": "code",
   "execution_count": 30,
   "id": "0a61a2fa",
   "metadata": {},
   "outputs": [],
   "source": [
    "const cars = [\"Carro\", \"Van\", \"Caminhao\"];"
   ]
  },
  {
   "cell_type": "code",
   "execution_count": 31,
   "id": "eec577b3",
   "metadata": {},
   "outputs": [
    {
     "data": {
      "text/plain": [
       "[ 'Carro', 'Van', 'Caminhao' ]"
      ]
     },
     "execution_count": 31,
     "metadata": {},
     "output_type": "execute_result"
    }
   ],
   "source": [
    "cars"
   ]
  },
  {
   "cell_type": "markdown",
   "id": "5bedf6f8",
   "metadata": {},
   "source": [
    "### - at()\n",
    "<p>\tO elemento da posição dada (índice) na matriz. Pode se usar at() ou apenas []</p>"
   ]
  },
  {
   "cell_type": "code",
   "execution_count": 32,
   "id": "dba9988c",
   "metadata": {},
   "outputs": [
    {
     "data": {
      "text/plain": [
       "'Caminhao'"
      ]
     },
     "execution_count": 32,
     "metadata": {},
     "output_type": "execute_result"
    }
   ],
   "source": [
    "cars[2]"
   ]
  },
  {
   "cell_type": "markdown",
   "id": "83fd986f",
   "metadata": {},
   "source": [
    "### - concat()\n",
    "<p>Junta duas ou mais arrays</p>"
   ]
  },
  {
   "cell_type": "code",
   "execution_count": 33,
   "id": "ba0ac559",
   "metadata": {},
   "outputs": [],
   "source": [
    "const arr1 = [\"Cecilie\", \"Lone\"];\n",
    "const arr2 = [\"Emil\", \"Tobias\", \"Linus\"];\n",
    "const children = arr1.concat(arr2);"
   ]
  },
  {
   "cell_type": "code",
   "execution_count": 34,
   "id": "a0c34333",
   "metadata": {},
   "outputs": [
    {
     "data": {
      "text/plain": [
       "[ 'Cecilie', 'Lone', 'Emil', 'Tobias', 'Linus' ]"
      ]
     },
     "execution_count": 34,
     "metadata": {},
     "output_type": "execute_result"
    }
   ],
   "source": [
    "children"
   ]
  },
  {
   "cell_type": "markdown",
   "id": "0371f888",
   "metadata": {},
   "source": [
    "### - constructor\n",
    "<p>A propriedade constructor retorna a função que criou o Array</p>"
   ]
  },
  {
   "cell_type": "code",
   "execution_count": 35,
   "id": "bd808930",
   "metadata": {},
   "outputs": [],
   "source": [
    "const fruits = [\"Banana\", \"Orange\", \"Apple\", \"Mango\"];\n",
    "let text = fruits.constructor;"
   ]
  },
  {
   "cell_type": "code",
   "execution_count": 36,
   "id": "815ecf02",
   "metadata": {},
   "outputs": [
    {
     "data": {
      "text/plain": [
       "[Function: Array]"
      ]
     },
     "execution_count": 36,
     "metadata": {},
     "output_type": "execute_result"
    }
   ],
   "source": [
    "text"
   ]
  },
  {
   "cell_type": "markdown",
   "id": "c4e5af83",
   "metadata": {},
   "source": [
    "### - copyWithin()\n",
    "<p>O método copyWithin() copia elementos de uma array para outra posição, sobreescrevendo os valores</p><br>\n",
    "array.copyWithin(target, start, end)"
   ]
  },
  {
   "cell_type": "code",
   "execution_count": 37,
   "id": "97ad64db",
   "metadata": {},
   "outputs": [
    {
     "data": {
      "text/plain": [
       "[ 'Banana', 'Banana', 'Orange', 'Apple' ]"
      ]
     },
     "execution_count": 37,
     "metadata": {},
     "output_type": "execute_result"
    }
   ],
   "source": [
    "fruits.copyWithin(1,0);\n",
    "\n",
    "fruits"
   ]
  },
  {
   "cell_type": "markdown",
   "id": "6fb6831d",
   "metadata": {},
   "source": [
    "### - entries()\n",
    "<p>O método entries() retorna uma Array com chaves</p>"
   ]
  },
  {
   "cell_type": "code",
   "execution_count": null,
   "id": "33c6eba9",
   "metadata": {},
   "outputs": [
    {
     "name": "stdout",
     "output_type": "stream",
     "text": [
      "[ 0, 'Banana' ]\n",
      "[ 1, 'Banana' ]\n",
      "[ 2, 'Orange' ]\n",
      "[ 3, 'Apple' ]\n"
     ]
    }
   ],
   "source": [
    "f = fruits.entries();\n",
    "\n",
    "for(let x of f) {\n",
    "    console.log(x);\n",
    "}"
   ]
  },
  {
   "cell_type": "markdown",
   "id": "37a045d2",
   "metadata": {},
   "source": [
    "### - every()\n",
    "- O every()método executa uma função para cada elemento do array.\n",
    "- O every() retorna truese a função retornar verdadeiro para todos os elementos.\n",
    "- O every() retorna falsese a função retornar false para um elemento. \n",
    "- O every() não executa a função para elementos vazios.\n",
    "- O every() não altera o array original"
   ]
  },
  {
   "cell_type": "code",
   "execution_count": 39,
   "id": "bfcc4415",
   "metadata": {},
   "outputs": [
    {
     "name": "stdout",
     "output_type": "stream",
     "text": [
      "false\n"
     ]
    }
   ],
   "source": [
    "idade = [32, 33, 10, 40];\n",
    "console.log(idade.every(verificaIdade));\n",
    "\n",
    "function verificaIdade(idade) {\n",
    "  return idade > 18;\n",
    "}"
   ]
  },
  {
   "cell_type": "markdown",
   "id": "2bb4eec9",
   "metadata": {},
   "source": [
    "### - fill()\n",
    "- O fill()método preenche os elementos especificados em uma matriz com um valor.\n",
    "- O fill()método substitui a matriz original.\n",
    "- As posições inicial e final podem ser especificadas. Caso contrário, todos os elementos serão preenchidos."
   ]
  },
  {
   "cell_type": "code",
   "execution_count": 40,
   "id": "db58a511",
   "metadata": {},
   "outputs": [
    {
     "name": "stdout",
     "output_type": "stream",
     "text": [
      "[ 'Banana', 'Maça', 'Maça', 'Apple' ]\n"
     ]
    }
   ],
   "source": [
    "console.log(fruits.fill(\"Maça\", 1,3));"
   ]
  },
  {
   "cell_type": "markdown",
   "id": "5c50a98e",
   "metadata": {},
   "source": [
    "### - filter()\n",
    "- O filter() cria uma nova matriz preenchida com elementos que passam em um teste fornecido por uma função.\n",
    "- O filter() não executa a função para elementos vazios.\n",
    "- O filter() não altera a matriz original."
   ]
  },
  {
   "cell_type": "code",
   "execution_count": 41,
   "id": "6c435b6c",
   "metadata": {},
   "outputs": [
    {
     "name": "stdout",
     "output_type": "stream",
     "text": [
      "[ 32, 42, 33 ]\n"
     ]
    }
   ],
   "source": [
    "idade = [15,32,42,33,10];\n",
    "\n",
    "function checkAdulto(idade) {\n",
    "    return idade >= 18;\n",
    "}\n",
    "\n",
    "console.log(idade.filter(checkAdulto));"
   ]
  },
  {
   "cell_type": "markdown",
   "id": "8eb64b3d",
   "metadata": {},
   "source": [
    "### - find()\n",
    "<p>Encontra o primeiro valor que respeita a função</p>\n",
    "\n",
    "- O find() retorna o valor do primeiro elemento que passa no teste.\n",
    "- O find() executa uma função para cada elemento do array.\n",
    "- O find() retorna undefinedse nenhum elemento for encontrado.\n",
    "- O find() não executa a função para elementos vazios.\n",
    "- O find() não altera a matriz original."
   ]
  },
  {
   "cell_type": "code",
   "execution_count": 42,
   "id": "05c55f53",
   "metadata": {},
   "outputs": [
    {
     "name": "stdout",
     "output_type": "stream",
     "text": [
      "32\n"
     ]
    }
   ],
   "source": [
    "console.log(idade.find(checkAdulto));"
   ]
  },
  {
   "cell_type": "markdown",
   "id": "194a015e",
   "metadata": {},
   "source": [
    "### - findIndex()\n",
    "<p>Retorna o index do primeiro elemento que satisfaz a função</p>\n",
    "\n",
    "- O findIndex()método executa uma função para cada elemento do array.\n",
    "- O findIndex()método retorna o índice (posição) do primeiro elemento que passa no teste.\n",
    "- O findIndex()método retorna -1 se nenhuma correspondência for encontrada.\n",
    "- O findIndex()método não executa a função para elementos de array vazios.\n",
    "- O findIndex()método não altera a matriz original."
   ]
  },
  {
   "cell_type": "code",
   "execution_count": null,
   "id": "bc829382",
   "metadata": {},
   "outputs": [],
   "source": [
    "console.log(idade.findIndex(checkAdulto));"
   ]
  },
  {
   "cell_type": "markdown",
   "id": "99482a5e",
   "metadata": {},
   "source": [
    "### - flat()\n",
    "<p>Cria nova array com elementos sub-array concatenados<p>"
   ]
  },
  {
   "cell_type": "code",
   "execution_count": null,
   "id": "6a2b87b8",
   "metadata": {},
   "outputs": [],
   "source": [
    "let myArr = [[1,2],[3,4],[5,6]];"
   ]
  },
  {
   "cell_type": "code",
   "execution_count": null,
   "id": "fc2a246a",
   "metadata": {},
   "outputs": [],
   "source": [
    "console.log(myArr.flat());"
   ]
  },
  {
   "cell_type": "markdown",
   "id": "71d2ff56",
   "metadata": {},
   "source": [
    "### - flatMap()\n",
    "<p>Método mapeia a array, cria uma flat e pode modificar os dados</p>"
   ]
  },
  {
   "cell_type": "code",
   "execution_count": null,
   "id": "513e70bf",
   "metadata": {},
   "outputs": [],
   "source": [
    "myArrFlat = [1,2,3,4,5,6];\n",
    "console.log(myArrFlat.flatMap((x) => x * 2));"
   ]
  },
  {
   "cell_type": "markdown",
   "id": "e1cbf7c1",
   "metadata": {},
   "source": [
    "### - forEach()\n",
    "<p>Chama uma função para cada elemento da array</p>"
   ]
  },
  {
   "cell_type": "code",
   "execution_count": null,
   "id": "bb1a185b",
   "metadata": {},
   "outputs": [],
   "source": [
    "console.log(idade.forEach(checkAdulto));"
   ]
  },
  {
   "cell_type": "markdown",
   "id": "468acc55",
   "metadata": {},
   "source": [
    "### - from()\n",
    "Cria uma array de uma string"
   ]
  },
  {
   "cell_type": "code",
   "execution_count": null,
   "id": "492c249e",
   "metadata": {},
   "outputs": [],
   "source": [
    "let texto = \"testes\";\n",
    "const stringArray = Array.from(texto);"
   ]
  },
  {
   "cell_type": "code",
   "execution_count": null,
   "id": "35990d75",
   "metadata": {},
   "outputs": [],
   "source": [
    "console.log(stringArray);"
   ]
  },
  {
   "cell_type": "markdown",
   "id": "5ff1676f",
   "metadata": {},
   "source": [
    "### - includes()\n",
    "Retorna true caso exista o elemento na array"
   ]
  },
  {
   "cell_type": "code",
   "execution_count": null,
   "id": "2a01778c",
   "metadata": {},
   "outputs": [],
   "source": [
    "console.log(stringArray.includes(\"e\"));"
   ]
  },
  {
   "cell_type": "markdown",
   "id": "c261c248",
   "metadata": {},
   "source": [
    "### - indexOf()\n",
    "Retorna o index do primeiro elemento igual ao parametro, caso não exita ele retorna -1"
   ]
  },
  {
   "cell_type": "code",
   "execution_count": null,
   "id": "b8cc7da7",
   "metadata": {},
   "outputs": [],
   "source": [
    "console.log(stringArray.indexOf(\"s\"));"
   ]
  },
  {
   "cell_type": "markdown",
   "id": "2a6b719f",
   "metadata": {},
   "source": [
    "### - isArray()\n",
    "Verifica se objeto é array, retorna true ou false\n",
    "<p>\n",
    "const fruits = [\"Banana\", \"Orange\", \"Apple\", \"Mango\"]; <br>\n",
    "let result = Array.isArray(fruits);\n",
    "</p>"
   ]
  },
  {
   "cell_type": "markdown",
   "id": "b1c34f20",
   "metadata": {},
   "source": [
    "### - join()\n",
    "Retorna uma string com os elementos da array separados por virgula"
   ]
  },
  {
   "cell_type": "code",
   "execution_count": null,
   "id": "4ebff86d",
   "metadata": {},
   "outputs": [],
   "source": [
    "console.log(cars.join())"
   ]
  },
  {
   "cell_type": "markdown",
   "id": "f14ed202",
   "metadata": {},
   "source": [
    "### - keys()\n",
    "Retorna um objeto iterador com as chaves da array\n",
    "\n",
    "const fruits = [\"Banana\", \"Orange\", \"Apple\", \"Mango\"];<br>\n",
    "const keys = fruits.keys();<br>\n",
    "\n",
    "let text = \" \";<br>\n",
    "for (let x of keys) {<br>\n",
    "  text += x + \"<-br->\";\n",
    "}"
   ]
  },
  {
   "cell_type": "markdown",
   "id": "d8acc5b1",
   "metadata": {},
   "source": [
    "### - lastIndexOf()\n",
    "Encontra o index da ultima aparição de determinado elemento\n",
    "<p>const fruits = [\"Apple\", \"Orange\", \"Apple\", \"Mango\"];<br>\n",
    "let index = fruits.lastIndexOf(\"Apple\");</p>\n",
    "\n",
    "2"
   ]
  },
  {
   "cell_type": "markdown",
   "id": "57c158ac",
   "metadata": {},
   "source": [
    "### - length()\n",
    "Imprime o tamanho da lista<br>\n",
    "const fruits = [\"Apple\", \"Orange\", \"Apple\", \"Mango\"];\n",
    "\n",
    "4"
   ]
  },
  {
   "cell_type": "markdown",
   "id": "dba82b04",
   "metadata": {},
   "source": [
    "### - map()\n",
    "Cria uma nova array de acordo com um parametro ou função com base na array:"
   ]
  },
  {
   "cell_type": "code",
   "execution_count": null,
   "id": "9fac80e3",
   "metadata": {},
   "outputs": [],
   "source": [
    "numbers = [4, 9, 16, 25];\n",
    "console.log(numbers.map(Math.sqrt))"
   ]
  },
  {
   "cell_type": "markdown",
   "id": "f63b87dc",
   "metadata": {},
   "source": [
    "### - pop()\n",
    "Remove determinado elemento da array, caso não exita parametro o ultimo elemento é removido e printa qual elemento foi removido"
   ]
  },
  {
   "cell_type": "code",
   "execution_count": null,
   "id": "66ba4c01",
   "metadata": {},
   "outputs": [],
   "source": [
    "console.log(numbers.pop(1))"
   ]
  },
  {
   "cell_type": "markdown",
   "id": "181fb36b",
   "metadata": {},
   "source": [
    "### - push()\n",
    "Adiciona um elemento a uma Array\n",
    "\n",
    "const fruits = [\"Banana\", \"Orange\", \"Apple\", \"Mango\"];<br>\n",
    "fruits.push(\"Kiwi\");<br>\n",
    "\n",
    "[\"Banana\", \"Orange\", \"Apple\", \"Mango\",\"Kiwi\"]"
   ]
  },
  {
   "cell_type": "markdown",
   "id": "762f90b5",
   "metadata": {},
   "source": [
    "### - reduce()\n",
    "\n",
    "Retorna uma array modificada seguindo os parametros indicados, usada para subtrair ou somar valores dos elementos.<br>\n",
    "\n",
    "- reduceRight() começa as operações pela direita\n",
    "\n",
    "const numbers = [175, 50, 25];<br>\n",
    "document.getElementById(\"demo\").innerHTML = numbers.reduce(myFunc);<br>\n",
    "\n",
    "function myFunc(total, num) {<br>\n",
    "  return total - num;<br>\n",
    "}<br><br>\n",
    "\n",
    "100"
   ]
  },
  {
   "cell_type": "markdown",
   "id": "78abc646",
   "metadata": {},
   "source": [
    "### - reverse()\n",
    "Função inverte a ordem dos elementos da raiz original<br>\n",
    "\n",
    "array.reverse()"
   ]
  },
  {
   "cell_type": "markdown",
   "id": "7ab3434b",
   "metadata": {},
   "source": [
    "### - shift()\n",
    "\n",
    "Remove o primeiro elemento da lista\n",
    "\n",
    "array.shift()"
   ]
  },
  {
   "cell_type": "markdown",
   "id": "8e151c3d",
   "metadata": {},
   "source": [
    "### - slice()\n",
    "\n",
    "Seleciona apenas os items indicados nos index do parametro\n",
    "\n",
    "const fruits = [\"Banana\", \"Orange\", \"Lemon\", \"Apple\", \"Mango\"];<br>\n",
    "const citrus = fruits.slice(1, 3);<br>\n",
    "\n",
    "Orange,Lemon"
   ]
  },
  {
   "cell_type": "markdown",
   "id": "17f29ca9",
   "metadata": {},
   "source": [
    "### - some()\n",
    "\n",
    "Verifica se algum elemento da lista passa o teste dado como parametro(função) e retorna true caso seja verdadeiro."
   ]
  },
  {
   "cell_type": "code",
   "execution_count": null,
   "id": "8f1a2e6e",
   "metadata": {},
   "outputs": [],
   "source": [
    "console.log(idade.some(checkAdulto))"
   ]
  },
  {
   "cell_type": "markdown",
   "id": "164bb871",
   "metadata": {},
   "source": [
    "### - sort()\n",
    "\n",
    "Organiza os elementos da lista em ordem alfabetica e de numeros crescentes\n",
    "\n",
    "lista.sort()"
   ]
  },
  {
   "cell_type": "markdown",
   "id": "4795a4ec",
   "metadata": {},
   "source": [
    "### - splice()\n",
    "\n",
    "Metodo adiciona elementos a array\n",
    "<br><br>\n",
    "Exemplo: Na posição 2, adicione novos items e remova 1 item:<br>\n",
    "\n",
    "const fruits = [\"Banana\", \"Orange\", \"Apple\", \"Mango\"];<br>\n",
    "fruits.splice(2, 1, \"Lemon\", \"Kiwi\");<br>\n",
    "<br>\n",
    "Banana,Orange,Lemon,Kiwi,Mango\n"
   ]
  },
  {
   "cell_type": "markdown",
   "id": "b4079b81",
   "metadata": {},
   "source": [
    "### - toString\n",
    "Retorna uma string com os elementos da array separados por virgula"
   ]
  },
  {
   "cell_type": "code",
   "execution_count": null,
   "id": "8a9e3dd2",
   "metadata": {},
   "outputs": [],
   "source": [
    "console.log(cars.toString())"
   ]
  },
  {
   "cell_type": "markdown",
   "id": "803faa51",
   "metadata": {},
   "source": [
    "### - unshift()\n",
    "Adiciona novos elementos para o inicio da array\n",
    "<br><br>\n",
    "const fruits = [\"Banana\", \"Orange\", \"Apple\", \"Mango\"];<br>\n",
    "fruits.unshift(\"Lemon\",\"Pineapple\");<br>\n",
    "\n",
    "\"Lemon\",\"Pineapple\",\"Banana\", \"Orange\", \"Apple\", \"Mango\"\n"
   ]
  },
  {
   "cell_type": "markdown",
   "id": "92288eb7",
   "metadata": {},
   "source": [
    "### - valueOf()\n",
    "Retorna a propria Array"
   ]
  },
  {
   "cell_type": "code",
   "execution_count": null,
   "id": "49e711ae",
   "metadata": {},
   "outputs": [],
   "source": [
    "console.log(cars.valueOf())"
   ]
  },
  {
   "cell_type": "markdown",
   "id": "f569be7d",
   "metadata": {},
   "source": [
    "---\n",
    "\n",
    "# Boolean"
   ]
  },
  {
   "cell_type": "code",
   "execution_count": null,
   "id": "9ea02866",
   "metadata": {},
   "outputs": [],
   "source": []
  }
 ],
 "metadata": {
  "kernelspec": {
   "display_name": "JavaScript (Node.js)",
   "language": "javascript",
   "name": "javascript"
  },
  "language_info": {
   "file_extension": ".js",
   "mimetype": "application/javascript",
   "name": "javascript",
   "version": "14.15.5"
  }
 },
 "nbformat": 4,
 "nbformat_minor": 5
}
